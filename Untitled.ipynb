{
 "cells": [
  {
   "cell_type": "code",
   "execution_count": 1,
   "metadata": {},
   "outputs": [],
   "source": [
    "import pandas as pd"
   ]
  },
  {
   "cell_type": "code",
   "execution_count": 9,
   "metadata": {},
   "outputs": [],
   "source": [
    "path = 'C:/Users/Фёдор/Desktop/data/'"
   ]
  },
  {
   "cell_type": "code",
   "execution_count": 3,
   "metadata": {},
   "outputs": [],
   "source": [
    "def years_analysis(list_of_years):\n",
    "    years_for_build = []\n",
    "    for year in list_of_years:\n",
    "        full_path = '{}yob{}.txt'.format(path, str(year))\n",
    "        year_dataframe = pd.read_csv(full_path, names=['Names', 'Gender', 'Count'])\n",
    "        year_dataframe['Year'] = str(year)\n",
    "        years_for_build.append(year_dataframe)\n",
    "    return pd.concat(years_for_build)"
   ]
  },
  {
   "cell_type": "code",
   "execution_count": 4,
   "metadata": {},
   "outputs": [],
   "source": [
    "def count_top3(list_of_years):\n",
    "    years_df = years_analysis(list_of_years)\n",
    "    years_df = years_df.groupby(['Names']).sum().reset_index()\n",
    "    return years_df.sort_values('Count', ascending=False).head(3)['Names'].tolist()"
   ]
  },
  {
   "cell_type": "code",
   "execution_count": 5,
   "metadata": {},
   "outputs": [],
   "source": [
    "def count_dynamics(list_of_years):\n",
    "    years_df = years_analysis(list_of_years)\n",
    "    years_df = years_df.groupby(['Gender', 'Year']).sum().reset_index()\n",
    "    female = years_df[years_df['Gender'] == 'F']['Count'].tolist()\n",
    "    male = years_df[years_df['Gender'] == 'M']['Count'].tolist()\n",
    "    return {\n",
    "        'F': female,\n",
    "        'M': male\n",
    "    }"
   ]
  },
  {
   "cell_type": "code",
   "execution_count": 11,
   "metadata": {},
   "outputs": [
    {
     "data": {
      "text/plain": [
       "['John', 'William', 'Mary']"
      ]
     },
     "execution_count": 11,
     "metadata": {},
     "output_type": "execute_result"
    }
   ],
   "source": [
    "count_top3_function_single = count_top3([1880])\n",
    "count_top3_function_single"
   ]
  },
  {
   "cell_type": "code",
   "execution_count": 12,
   "metadata": {},
   "outputs": [
    {
     "data": {
      "text/plain": [
       "['James', 'John', 'Robert']"
      ]
     },
     "execution_count": 12,
     "metadata": {},
     "output_type": "execute_result"
    }
   ],
   "source": [
    "count_top3_function_multiple = count_top3([1900, 1950, 2000])\n",
    "count_top3_function_multiple"
   ]
  },
  {
   "cell_type": "code",
   "execution_count": 13,
   "metadata": {},
   "outputs": [
    {
     "data": {
      "text/plain": [
       "{'F': [299798, 1713065, 1815295], 'M': [150480, 1790437, 1963202]}"
      ]
     },
     "execution_count": 13,
     "metadata": {},
     "output_type": "execute_result"
    }
   ],
   "source": [
    "count_dynamics_function = count_dynamics([1900, 1950, 2000])\n",
    "count_dynamics_function"
   ]
  },
  {
   "cell_type": "code",
   "execution_count": null,
   "metadata": {},
   "outputs": [],
   "source": []
  }
 ],
 "metadata": {
  "kernelspec": {
   "display_name": "Python 3",
   "language": "python",
   "name": "python3"
  },
  "language_info": {
   "codemirror_mode": {
    "name": "ipython",
    "version": 3
   },
   "file_extension": ".py",
   "mimetype": "text/x-python",
   "name": "python",
   "nbconvert_exporter": "python",
   "pygments_lexer": "ipython3",
   "version": "3.7.6"
  }
 },
 "nbformat": 4,
 "nbformat_minor": 4
}
